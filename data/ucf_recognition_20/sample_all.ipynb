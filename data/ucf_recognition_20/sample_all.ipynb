{
 "cells": [
  {
   "cell_type": "code",
   "execution_count": 1,
   "metadata": {
    "collapsed": false
   },
   "outputs": [],
   "source": [
    "import pandas as pd\n",
    "import os\n",
    "import numpy as np\n",
    "import pickle\n",
    "\n",
    "experiment_dir = './lists/'\n",
    "filenames = ['fullpath_train_list.txt', 'fullpath_test_list.txt']\n",
    "\n",
    "sample_percent = 10 #sample this percentages of the frames\n",
    "num_samples = 10\n",
    "optical_flow_offset = 0\n"
   ]
  },
  {
   "cell_type": "code",
   "execution_count": 3,
   "metadata": {
    "collapsed": false
   },
   "outputs": [
    {
     "name": "stdout",
     "output_type": "stream",
     "text": [
      "writing sampled_t2_p10_fullpath_train_list.txt\n",
      "Loaded fullpath_train_list.txt\n",
      "Computed Boundaries\n",
      "kboundaries: 1920, kvideos: 1920\n",
      "Finding video samples\n",
      "Done video samples\n",
      "0\n",
      "writing sampled_t2_p10_fullpath_test_list.txt\n",
      "Loaded fullpath_test_list.txt\n",
      "Computed Boundaries\n",
      "kboundaries: 845, kvideos: 845\n",
      "Finding video samples\n",
      "Done video samples\n",
      "0\n"
     ]
    }
   ],
   "source": [
    "# load data\n",
    "\n",
    "is_shuffle = False\n",
    "output_file_number = 2\n",
    "\n",
    "for filename in filenames:\n",
    "    output_file = 'sampled_t%d_p%d_%s'%(output_file_number,sample_percent, filename)\n",
    "    if is_shuffle:\n",
    "        output_file = '%s_%s'%('shuffle', output_file)\n",
    "    print 'writing %s'%output_file\n",
    "    df = pd.read_csv(os.path.join(experiment_dir, filename), delimiter = ' ', header = None, names = ['filename', 'class_id'])\n",
    "    print 'Loaded %s'%filename\n",
    "    \n",
    "    df['video_name'] = df.filename.apply(lambda x: x.split('/')[-2])\n",
    "    df['frame_id'] = df.filename.apply(lambda x: x.split('/')[-1])\n",
    "    \n",
    "    # find the locations of changes\n",
    "    flags = df.video_name != df.video_name.shift(1)\n",
    "    flags.append(pd.Series(1, [len(df)]))\n",
    "    breaks = pd.Series(np.where(flags == True)[0], dtype=np.uint32)\n",
    "    boundaries = zip(breaks, breaks.shift(-1))[:-1]\n",
    "    boundaries.append((boundaries[-1][1],len(df))) #count the final video.\n",
    "    print 'Computed Boundaries'\n",
    "    \n",
    "    print \"kboundaries: %d, kvideos: %d\" % (len(boundaries),len(df.video_name.unique()))\n",
    "    sub_indices = []\n",
    "\n",
    "    print 'Finding video samples'\n",
    "    num_failures = 0\n",
    "    for boundary in boundaries:\n",
    "        start, end = int(boundary[0]), int(boundary[1])\n",
    "        small_df = df[start:end]\n",
    "        num_samples = int((end - start)*sample_percent/100)\n",
    "        sub_indices.append(np.random.choice(small_df.index, num_samples, replace=False))\n",
    "    print 'Done video samples'\n",
    "    \n",
    "    \n",
    "    # turn a list of lists into a flat list\n",
    "    flat = [x for sublist in sub_indices for x in sublist] \n",
    "    # generate the sampled df from the indices\n",
    "    sampled_df = df.ix[flat]\n",
    "    if is_shuffle:\n",
    "        sampled_df = sampled_df.loc[np.random.permutation(sampled_df.index)]\n",
    "    # write the fields to csv\n",
    "    sampled_df[['filename', 'class_id']].to_csv(os.path.join(experiment_dir, output_file), header = False, index = False, sep = ' ')\n",
    "    print num_failures"
   ]
  },
  {
   "cell_type": "code",
   "execution_count": 1,
   "metadata": {
    "collapsed": true
   },
   "outputs": [],
   "source": [
    "! cp ./lists/sampled_t1_p10_fullpath_train_list.txt ./lists/sampled_t1_p10_fullpath_all_list.txt\n",
    "! cat ./lists/sampled_t1_p10_fullpath_test_list.txt >> ./lists/sampled_t1_p10_fullpath_all_list.txt"
   ]
  },
  {
   "cell_type": "code",
   "execution_count": null,
   "metadata": {
    "collapsed": true
   },
   "outputs": [],
   "source": []
  }
 ],
 "metadata": {
  "kernelspec": {
   "display_name": "Python 2",
   "language": "python",
   "name": "python2"
  },
  "language_info": {
   "codemirror_mode": {
    "name": "ipython",
    "version": 2
   },
   "file_extension": ".py",
   "mimetype": "text/x-python",
   "name": "python",
   "nbconvert_exporter": "python",
   "pygments_lexer": "ipython2",
   "version": "2.7.3"
  }
 },
 "nbformat": 4,
 "nbformat_minor": 0
}
