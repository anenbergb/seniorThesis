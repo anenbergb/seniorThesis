{
 "cells": [
  {
   "cell_type": "code",
   "execution_count": 3,
   "metadata": {
    "collapsed": true
   },
   "outputs": [],
   "source": [
    "import os, pickle, csv\n",
    "import pandas as pd"
   ]
  },
  {
   "cell_type": "code",
   "execution_count": 6,
   "metadata": {
    "collapsed": false
   },
   "outputs": [],
   "source": [
    "\"\"\"\n",
    "    Constructs the data lists of image to id with the following format.\n",
    "    [video_name/%08d] [class_id]\n",
    "    stores them in:\n",
    "    \"./lists/train_list.txt\"\n",
    "    \"./lists/test_list.txt\"\n",
    "\n",
    "    Restricted to the 20 detection classes.\n",
    "\n",
    "\"\"\"\n",
    "\n",
    "\n",
    "\n",
    "#directory where the training (UCF, validation) and testing frames are\n",
    "UCF_DIR=\"/afs/cs.stanford.edu/group/cvgl/rawdata/THUMOS2014/Training/Frames/\"\n",
    "\n",
    "\n",
    "UCF_vidmap = pickle.load( open(\"./UCF_vidmap.pkl\", \"rb\" ) )[1]\n",
    "\n",
    "\n",
    "FULLPATH = True"
   ]
  },
  {
   "cell_type": "markdown",
   "metadata": {},
   "source": [
    "\n",
    "# create mapping from UCF 101 index to 20 class index."
   ]
  },
  {
   "cell_type": "code",
   "execution_count": 4,
   "metadata": {
    "collapsed": false
   },
   "outputs": [],
   "source": [
    "classes_df = pd.read_csv('./selectedClasses.csv', delimiter = ' ', header = None, names = ['UCF_id', 'video_name'])\n",
    "UCF_to_20 = {u:t for u,t in zip(classes_df.UCF_id, classes_df.index)}"
   ]
  },
  {
   "cell_type": "code",
   "execution_count": 5,
   "metadata": {
    "collapsed": false
   },
   "outputs": [
    {
     "data": {
      "text/plain": [
       "[33, 36, 7, 40, 9, 97, 12, 45, 79, 51, 21, 22, 23, 24, 68, 26, 92, 93, 85, 31]"
      ]
     },
     "execution_count": 5,
     "metadata": {},
     "output_type": "execute_result"
    }
   ],
   "source": [
    "UCF_to_20.keys()"
   ]
  },
  {
   "cell_type": "code",
   "execution_count": 9,
   "metadata": {
    "collapsed": false,
    "scrolled": false
   },
   "outputs": [
    {
     "name": "stdout",
     "output_type": "stream",
     "text": [
      "begining process\n",
      "processing video 0\n",
      "processing video 100\n",
      "processing video 200\n",
      "processing video 300\n",
      "processing video 400\n",
      "processing video 500\n",
      "processing video 600\n",
      "processing video 700\n",
      "processing video 800\n",
      "processing video 900\n",
      "processing video 1000\n",
      "processing video 1100\n",
      "processing video 1200\n",
      "processing video 1300\n",
      "processing video 1400\n",
      "processing video 1500\n",
      "processing video 1600\n",
      "processing video 1700\n",
      "processing video 1800\n",
      "processing video 1900\n",
      "begining process\n",
      "processing video 0\n",
      "processing video 100\n",
      "processing video 200\n",
      "processing video 300\n",
      "processing video 400\n",
      "processing video 500\n",
      "processing video 600\n",
      "processing video 700\n",
      "processing video 800\n"
     ]
    }
   ],
   "source": [
    "def printList(writer,df):\n",
    "    for index, row in df.iterrows():\n",
    "        if index % 100 == 0:\n",
    "            print \"processing video %d\" % index\n",
    "        path_to_video = os.path.join(UCF_DIR,row.video_name)\n",
    "        for frame in os.listdir(path_to_video):\n",
    "            get_dot_jpg = frame.split('.')\n",
    "            if len(get_dot_jpg) > 1 and get_dot_jpg[1] != \"pkl\":\n",
    "                frame_name = row.video_name+\"/\"+frame\n",
    "                if FULLPATH:\n",
    "                    frame_name = os.path.join(path_to_video,frame)\n",
    "                #Now we need to know the label of this image.\n",
    "                frame_index = UCF_to_20[UCF_vidmap[row.video_name]]\n",
    "                #print frame_name, frame_index\n",
    "                writer.writerow([frame_name, frame_index])\n",
    "                \n",
    "\n",
    "def makeList(data_split, save_list):\n",
    "    df = pd.read_csv(data_split, delimiter = ' ', header = None, names = ['video_name', 'class_id'])\n",
    "    with open(save_list,'wb') as f:\n",
    "        writer = csv.writer(f, delimiter=' ')\n",
    "        print \"begining process\"\n",
    "        printList(writer,df)                  \n",
    "\n",
    "train_split = \"./lists_IDTF/train_split.txt\"\n",
    "test_split = \"./lists_IDTF/test_split.txt\"\n",
    "makeList(train_split, './lists/fullpath_train_list.txt')\n",
    "makeList(test_split, './lists/fullpath_test_list.txt')\n"
   ]
  },
  {
   "cell_type": "code",
   "execution_count": null,
   "metadata": {
    "collapsed": true
   },
   "outputs": [],
   "source": []
  }
 ],
 "metadata": {
  "kernelspec": {
   "display_name": "Python 2",
   "language": "python",
   "name": "python2"
  },
  "language_info": {
   "codemirror_mode": {
    "name": "ipython",
    "version": 2
   },
   "file_extension": ".py",
   "mimetype": "text/x-python",
   "name": "python",
   "nbconvert_exporter": "python",
   "pygments_lexer": "ipython2",
   "version": "2.7.3"
  }
 },
 "nbformat": 4,
 "nbformat_minor": 0
}
