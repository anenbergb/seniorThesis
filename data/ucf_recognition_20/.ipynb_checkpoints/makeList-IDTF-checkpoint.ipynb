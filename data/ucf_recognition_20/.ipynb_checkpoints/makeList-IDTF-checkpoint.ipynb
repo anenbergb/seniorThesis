{
 "cells": [
  {
   "cell_type": "code",
   "execution_count": 10,
   "metadata": {
    "collapsed": true
   },
   "outputs": [],
   "source": [
    "import os, pickle, csv\n",
    "import pandas as pd\n",
    "import collections, random"
   ]
  },
  {
   "cell_type": "code",
   "execution_count": 33,
   "metadata": {
    "collapsed": false
   },
   "outputs": [],
   "source": [
    "\"\"\"\n",
    "    Constructs the data lists of image to id with the following format.\n",
    "    [video_name/%08d] [class_id]\n",
    "    stores them in:\n",
    "    \"./lists/train_list.txt\"\n",
    "    \"./lists/test_list.txt\"\n",
    "\n",
    "    Restricted to the 20 detection classes.\n",
    "\n",
    "\"\"\"\n",
    "\n",
    "\n",
    "#directory where the training (UCF, validation) and testing frames are\n",
    "UCF_DIR=\"/afs/cs.stanford.edu/group/cvgl/rawdata/THUMOS2014/Training/videos/\"\n",
    "UCF_IDTF=\"/scail/scratch/group/cvgl/anenberg/UCF101_features/\"\n",
    "\n",
    "\n",
    "\n",
    "UCF_vidmap = pickle.load( open(\"./UCF_vidmap.pkl\", \"rb\" ) )[1]\n",
    "VALID_vidmap = pickle.load( open(\"./VALID_vidmap.pkl\", \"rb\") )[1]\n",
    "TEST_vidmap = pickle.load( open(\"./TEST_vidmap.pkl\", \"rb\") )[1]\n",
    "\n",
    "\n",
    "\n",
    "FULLPATH = True"
   ]
  },
  {
   "cell_type": "markdown",
   "metadata": {},
   "source": [
    "\n",
    "# create mapping from UCF 101 index to 20 class index."
   ]
  },
  {
   "cell_type": "code",
   "execution_count": 2,
   "metadata": {
    "collapsed": false
   },
   "outputs": [],
   "source": [
    "classes_df = pd.read_csv('./selectedClasses.csv', delimiter = ' ', header = None, names = ['UCF_id', 'video_name'])\n",
    "UCF_to_20 = {u:t for u,t in zip(classes_df.UCF_id, classes_df.index)}"
   ]
  },
  {
   "cell_type": "code",
   "execution_count": 3,
   "metadata": {
    "collapsed": false
   },
   "outputs": [
    {
     "data": {
      "text/plain": [
       "[33, 36, 7, 40, 9, 97, 12, 45, 79, 51, 21, 22, 23, 24, 68, 26, 92, 93, 85, 31]"
      ]
     },
     "execution_count": 3,
     "metadata": {},
     "output_type": "execute_result"
    }
   ],
   "source": [
    "UCF_to_20.keys()"
   ]
  },
  {
   "cell_type": "markdown",
   "metadata": {
    "collapsed": true
   },
   "source": [
    "# Create the split of training and testing videos."
   ]
  },
  {
   "cell_type": "code",
   "execution_count": 60,
   "metadata": {
    "collapsed": false
   },
   "outputs": [],
   "source": [
    "def ucf_splits(data_dir, vidmap, percent=0.7):\n",
    "    \"\"\"\n",
    "    percent: percent of videos to remain in the training data set.\n",
    "    \"\"\"\n",
    "    videos = [(d.split('.')[0],UCF_to_20[vidmap[d.split('.')[0]]])\\\n",
    "              for d in os.listdir(data_dir) if vidmap[d.split('.')[0]] in UCF_to_20.keys()]\n",
    "    d = collections.defaultdict(list)\n",
    "    for video, index in videos:\n",
    "        d[index].append(video)\n",
    "    #randomly shuffle the lists\n",
    "    random.seed(1)\n",
    "    for i in d:\n",
    "        random.shuffle(d[i])\n",
    "    train = []\n",
    "    test = []\n",
    "    num_train = int(0.7*len(videos)/20)\n",
    "    for index, v in d.iteritems():\n",
    "        train.extend([(vid,index) for vid in v[:num_train]])\n",
    "        test.extend([(vid,index) for vid in v[num_train:]])\n",
    "    return (train, test)\n",
    "\n",
    "(train_list, test_list) = ucf_splits(UCF_IDTF, UCF_vidmap)\n"
   ]
  },
  {
   "cell_type": "code",
   "execution_count": 63,
   "metadata": {
    "collapsed": false
   },
   "outputs": [],
   "source": [
    "def save_split(split, output):\n",
    "    with open(output,'wb') as f:\n",
    "        writer = csv.writer(f, delimiter=' ')\n",
    "        for video, index in split:\n",
    "            writer.writerow([video, index])\n",
    "save_split(train_list,'./lists_IDTF/train_split.txt')\n",
    "save_split(test_list,'./lists_IDTF/test_split.txt')"
   ]
  },
  {
   "cell_type": "markdown",
   "metadata": {},
   "source": [
    "# Save lists"
   ]
  },
  {
   "cell_type": "code",
   "execution_count": 66,
   "metadata": {
    "collapsed": false,
    "scrolled": true
   },
   "outputs": [
    {
     "name": "stdout",
     "output_type": "stream",
     "text": [
      "processing UCF videos\n",
      "processing Testing videos\n"
     ]
    }
   ],
   "source": [
    "def makeList(writer,data_dir,split):           \n",
    "    for video, index in split:\n",
    "        video_fullpath = os.path.join(data_dir, video+'.avi.txt')\n",
    "        writer.writerow([video_fullpath, index])\n",
    "                \n",
    "\n",
    "def makeTrainList():\n",
    "    save_list = \"./lists_IDTF/train_list.txt\"\n",
    "    with open(save_list,'wb') as f:\n",
    "        writer = csv.writer(f, delimiter=' ')\n",
    "        print \"processing UCF videos\"\n",
    "        makeList(writer,UCF_IDTF,train_list)\n",
    "\n",
    "    \n",
    "def makeTestList():\n",
    "    save_list = \"./lists_IDTF/test_list.txt\"\n",
    "    with open(save_list,'wb') as f:\n",
    "        writer = csv.writer(f, delimiter=' ')\n",
    "        print \"processing Testing videos\"\n",
    "        makeList(writer,UCF_IDTF,test_list)                    \n",
    "        \n",
    "        \n",
    "makeTrainList()\n",
    "makeTestList()\n"
   ]
  }
 ],
 "metadata": {
  "kernelspec": {
   "display_name": "Python 2",
   "language": "python",
   "name": "python2"
  },
  "language_info": {
   "codemirror_mode": {
    "name": "ipython",
    "version": 2
   },
   "file_extension": ".py",
   "mimetype": "text/x-python",
   "name": "python",
   "nbconvert_exporter": "python",
   "pygments_lexer": "ipython2",
   "version": "2.7.3"
  }
 },
 "nbformat": 4,
 "nbformat_minor": 0
}
