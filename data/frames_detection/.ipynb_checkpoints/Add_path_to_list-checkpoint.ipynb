{
 "cells": [
  {
   "cell_type": "code",
   "execution_count": 5,
   "metadata": {
    "collapsed": true
   },
   "outputs": [],
   "source": [
    "import pandas as pd\n",
    "import os, csv\n",
    "import numpy as np\n",
    "\n",
    "experiment_dir = '/afs/cs.stanford.edu/u/anenberg/scr/CS231N/data/allFrames/lists'\n",
    "data_paths = ['/afs/cs.stanford.edu/u/anenberg/scr/CS231N/data/allFrames/test','/afs/cs.stanford.edu/u/anenberg/scr/CS231N/data/allFrames/train']\n",
    "filenames = [\"shuffle_shotdetect_sampled_t2_100_test_list.txt\", \"shuffle_shotdetect_sampled_t2_100_train_list.txt\"]"
   ]
  },
  {
   "cell_type": "code",
   "execution_count": 6,
   "metadata": {
    "collapsed": false
   },
   "outputs": [],
   "source": [
    "# load data\n",
    "\n",
    "for filename, data_path in zip(filenames,data_paths):\n",
    "    output_file = 'fullpath_%s'%(filename)\n",
    "    fullpath_filename = os.path.join(experiment_dir,filename)\n",
    "    fullpath_output_file = os.path.join(experiment_dir,output_file)\n",
    "    with open(fullpath_filename,'rb') as f:\n",
    "        reader = csv.reader(f, delimiter=' ')\n",
    "        with open(fullpath_output_file,'wb') as f2:\n",
    "            out = csv.writer(f2, delimiter=' ')\n",
    "            for row in reader:\n",
    "                image_path = os.path.join(data_path,row[0])\n",
    "                out.writerow([image_path, row[1]])"
   ]
  },
  {
   "cell_type": "code",
   "execution_count": 4,
   "metadata": {
    "collapsed": false,
    "scrolled": true
   },
   "outputs": [],
   "source": [
    "#! cat ./lists/fullpath_shuffle_shotdetect_sampled_5_test_list.txt"
   ]
  },
  {
   "cell_type": "code",
   "execution_count": 1,
   "metadata": {
    "collapsed": false
   },
   "outputs": [
    {
     "name": "stdout",
     "output_type": "stream",
     "text": [
      "shuffle_sampled_t1_5_test_list.txt   test_list.txt\r\n",
      "shuffle_sampled_t1_5_train_list.txt  train_list.txt\r\n"
     ]
    }
   ],
   "source": [
    "!ls ./lists/"
   ]
  },
  {
   "cell_type": "code",
   "execution_count": null,
   "metadata": {
    "collapsed": true
   },
   "outputs": [],
   "source": []
  }
 ],
 "metadata": {
  "kernelspec": {
   "display_name": "Python 2",
   "language": "python",
   "name": "python2"
  },
  "language_info": {
   "codemirror_mode": {
    "name": "ipython",
    "version": 2
   },
   "file_extension": ".py",
   "mimetype": "text/x-python",
   "name": "python",
   "nbconvert_exporter": "python",
   "pygments_lexer": "ipython2",
   "version": "2.7.3"
  }
 },
 "nbformat": 4,
 "nbformat_minor": 0
}
