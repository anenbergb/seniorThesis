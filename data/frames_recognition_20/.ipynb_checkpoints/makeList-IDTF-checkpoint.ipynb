{
 "cells": [
  {
   "cell_type": "code",
   "execution_count": 1,
   "metadata": {
    "collapsed": true
   },
   "outputs": [],
   "source": [
    "import os, pickle, csv\n",
    "import pandas as pd"
   ]
  },
  {
   "cell_type": "code",
   "execution_count": 24,
   "metadata": {
    "collapsed": false
   },
   "outputs": [],
   "source": [
    "\"\"\"\n",
    "    Constructs the data lists of image to id with the following format.\n",
    "    [video_name/%08d] [class_id]\n",
    "    stores them in:\n",
    "    \"./lists/train_list.txt\"\n",
    "    \"./lists/test_list.txt\"\n",
    "\n",
    "    Restricted to the 20 detection classes.\n",
    "\n",
    "\"\"\"\n",
    "\n",
    "\n",
    "\n",
    "#directory where the training (UCF, validation) and testing frames are\n",
    "UCF_DIR=\"/afs/cs.stanford.edu/group/cvgl/rawdata/THUMOS2014/Training/videos/\"\n",
    "VALID_DIR=\"/afs/cs.stanford.edu/group/cvgl/rawdata/THUMOS2014/Validation/videos\"\n",
    "TEST_DIR=\"/afs/cs.stanford.edu/group/cvgl/rawdata/THUMOS2014/Test/videos/\"\n",
    "\n",
    "UCF_IDTF=\"/scail/scratch/group/cvgl/anenberg/UCF101_features/\"\n",
    "VALID_IDTF=\"/scail/scratch/group/cvgl/anenberg/TH14_validation_features/\"\n",
    "TEST_IDTF=\"/scail/scratch/group/cvgl/anenberg/TH14_test_features/\"\n",
    "\n",
    "\n",
    "UCF_vidmap = pickle.load( open(\"./UCF_vidmap.pkl\", \"rb\" ) )[1]\n",
    "VALID_vidmap = pickle.load( open(\"./VALID_vidmap.pkl\", \"rb\") )[1]\n",
    "TEST_vidmap = pickle.load( open(\"./TEST_vidmap.pkl\", \"rb\") )[1]\n",
    "\n",
    "\n",
    "\n",
    "FULLPATH = True"
   ]
  },
  {
   "cell_type": "markdown",
   "metadata": {},
   "source": [
    "\n",
    "# create mapping from UCF 101 index to 20 class index."
   ]
  },
  {
   "cell_type": "code",
   "execution_count": 25,
   "metadata": {
    "collapsed": true
   },
   "outputs": [],
   "source": [
    "! mv lists_FV lists_IDTF"
   ]
  },
  {
   "cell_type": "code",
   "execution_count": 3,
   "metadata": {
    "collapsed": false
   },
   "outputs": [],
   "source": [
    "classes_df = pd.read_csv('./selectedClasses.csv', delimiter = ' ', header = None, names = ['UCF_id', 'video_name'])\n",
    "UCF_to_20 = {u:t for u,t in zip(classes_df.UCF_id, classes_df.index)}"
   ]
  },
  {
   "cell_type": "code",
   "execution_count": 4,
   "metadata": {
    "collapsed": false
   },
   "outputs": [
    {
     "data": {
      "text/plain": [
       "[33, 36, 7, 40, 9, 97, 12, 45, 79, 51, 21, 22, 23, 24, 68, 26, 92, 93, 85, 31]"
      ]
     },
     "execution_count": 4,
     "metadata": {},
     "output_type": "execute_result"
    }
   ],
   "source": [
    "UCF_to_20.keys()"
   ]
  },
  {
   "cell_type": "code",
   "execution_count": null,
   "metadata": {
    "collapsed": true
   },
   "outputs": [],
   "source": []
  },
  {
   "cell_type": "code",
   "execution_count": 28,
   "metadata": {
    "collapsed": false,
    "scrolled": true
   },
   "outputs": [
    {
     "name": "stdout",
     "output_type": "stream",
     "text": [
      "processing UCF videos\n",
      "processing Validation videos\n",
      "processing Testing videos\n"
     ]
    }
   ],
   "source": [
    "def makeList(writer,data_dir,vidmap):           \n",
    "    videos = [(os.path.join(data_dir,d),UCF_to_20[vidmap[d.split('.')[0]]])\\\n",
    "              for d in os.listdir(data_dir) if vidmap[d.split('.')[0]] in UCF_to_20.keys()]\n",
    "    for video, index in videos:\n",
    "        writer.writerow([video, index])\n",
    "                \n",
    "\n",
    "def makeTrainList():\n",
    "    save_list = \"./lists_IDTF/train_list.txt\"\n",
    "    with open(save_list,'wb') as f:\n",
    "        writer = csv.writer(f, delimiter=' ')\n",
    "        print \"processing UCF videos\"\n",
    "        makeList(writer,UCF_IDTF,UCF_vidmap)\n",
    "        print \"processing Validation videos\"\n",
    "        makeList(writer,VALID_IDTF,VALID_vidmap)\n",
    "    \n",
    "def makeTestList():\n",
    "    save_list = \"./lists_IDTF/test_list.txt\"\n",
    "    with open(save_list,'wb') as f:\n",
    "        writer = csv.writer(f, delimiter=' ')\n",
    "        print \"processing Testing videos\"\n",
    "        makeList(writer,TEST_IDTF,TEST_vidmap)                    \n",
    "        \n",
    "        \n",
    "makeTrainList()\n",
    "makeTestList()\n"
   ]
  },
  {
   "cell_type": "markdown",
   "metadata": {
    "collapsed": true
   },
   "source": [
    "# Check that the number of videos from which we have frames is the same as the number of videos from which we have IDTFs"
   ]
  },
  {
   "cell_type": "code",
   "execution_count": 14,
   "metadata": {
    "collapsed": true
   },
   "outputs": [],
   "source": [
    "UCF_DIR=\"/afs/cs.stanford.edu/group/cvgl/rawdata/THUMOS2014/Training/Frames/\"\n",
    "VALID_DIR=\"/afs/cs.stanford.edu/group/cvgl/rawdata/THUMOS2014/Validation/Frames/\"\n",
    "TEST_DIR=\"/afs/cs.stanford.edu/group/cvgl/rawdata/THUMOS2014/Test/Frames/\"\n",
    "import collections\n",
    "\n",
    "def videosInFramesdir(data_dir,vidmap):        \n",
    "    videos = [d for d in os.listdir(data_dir) if vidmap[d] in UCF_to_20.keys()]\n",
    "    return videos\n",
    "\n",
    "def videosInIDTFdir(data_dir,vidmap):\n",
    "    videos = [d.split('.')[0] for d in os.listdir(data_dir) if vidmap[d.split('.')[0]] in UCF_to_20.keys()]\n",
    "    return videos\n",
    "\n",
    "\n",
    "def equalLists(x,y):\n",
    "    return set(x).symmetric_difference(y)\n",
    "\n",
    "            "
   ]
  },
  {
   "cell_type": "code",
   "execution_count": 22,
   "metadata": {
    "collapsed": false
   },
   "outputs": [],
   "source": [
    "ucf_frames = videosInFramesdir(TEST_DIR,TEST_vidmap)\n",
    "ucf_idtfs = videosInIDTFdir(TEST_IDTF,TEST_vidmap)\n",
    "\n",
    "A = equalLists(ucf_frames,ucf_idtfs)"
   ]
  },
  {
   "cell_type": "code",
   "execution_count": 23,
   "metadata": {
    "collapsed": false
   },
   "outputs": [
    {
     "name": "stdout",
     "output_type": "stream",
     "text": [
      "314\n",
      "314\n",
      "set([])\n"
     ]
    }
   ],
   "source": [
    "print len(ucf_frames)\n",
    "print len(ucf_idtfs)\n",
    "print A"
   ]
  },
  {
   "cell_type": "code",
   "execution_count": null,
   "metadata": {
    "collapsed": true
   },
   "outputs": [],
   "source": []
  }
 ],
 "metadata": {
  "kernelspec": {
   "display_name": "Python 2",
   "language": "python",
   "name": "python2"
  },
  "language_info": {
   "codemirror_mode": {
    "name": "ipython",
    "version": 2
   },
   "file_extension": ".py",
   "mimetype": "text/x-python",
   "name": "python",
   "nbconvert_exporter": "python",
   "pygments_lexer": "ipython2",
   "version": "2.7.3"
  }
 },
 "nbformat": 4,
 "nbformat_minor": 0
}
