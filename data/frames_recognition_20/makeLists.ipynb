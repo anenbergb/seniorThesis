{
 "cells": [
  {
   "cell_type": "code",
   "execution_count": 5,
   "metadata": {
    "collapsed": true
   },
   "outputs": [],
   "source": [
    "import os, pickle, csv\n",
    "import pandas as pd"
   ]
  },
  {
   "cell_type": "code",
   "execution_count": 4,
   "metadata": {
    "collapsed": false
   },
   "outputs": [],
   "source": [
    "\"\"\"\n",
    "    Constructs the data lists of image to id with the following format.\n",
    "    [video_name/%08d] [class_id]\n",
    "    stores them in:\n",
    "    \"./lists/train_list.txt\"\n",
    "    \"./lists/test_list.txt\"\n",
    "\n",
    "    Restricted to the 20 detection classes.\n",
    "\n",
    "\"\"\"\n",
    "\n",
    "\n",
    "\n",
    "#directory where the training (UCF, validation) and testing frames are\n",
    "UCF_DIR=\"/afs/cs.stanford.edu/group/cvgl/rawdata/THUMOS2014/Training/Frames/\"\n",
    "VALID_DIR=\"/afs/cs.stanford.edu/group/cvgl/rawdata/THUMOS2014/Validation/Frames/\"\n",
    "TEST_DIR=\"/afs/cs.stanford.edu/group/cvgl/rawdata/THUMOS2014/Test/Frames/\"\n",
    "\n",
    "\n",
    "UCF_vidmap = pickle.load( open(\"./UCF_vidmap.pkl\", \"rb\" ) )[1]\n",
    "VALID_vidmap = pickle.load( open(\"./VALID_vidmap.pkl\", \"rb\") )[1]\n",
    "TEST_vidmap = pickle.load( open(\"./TEST_vidmap.pkl\", \"rb\") )[1]\n",
    "\n",
    "\n",
    "\n",
    "FULLPATH = True"
   ]
  },
  {
   "cell_type": "markdown",
   "metadata": {},
   "source": [
    "\n",
    "# create mapping from UCF 101 index to 20 class index."
   ]
  },
  {
   "cell_type": "code",
   "execution_count": 30,
   "metadata": {
    "collapsed": false
   },
   "outputs": [],
   "source": [
    "classes_df = pd.read_csv('./selectedClasses.csv', delimiter = ' ', header = None, names = ['UCF_id', 'video_name'])\n",
    "UCF_to_20 = {u:t for u,t in zip(classes_df.UCF_id, classes_df.index)}"
   ]
  },
  {
   "cell_type": "code",
   "execution_count": 31,
   "metadata": {
    "collapsed": false
   },
   "outputs": [
    {
     "data": {
      "text/plain": [
       "[33, 36, 7, 40, 9, 97, 12, 45, 79, 51, 21, 22, 23, 24, 68, 26, 92, 93, 85, 31]"
      ]
     },
     "execution_count": 31,
     "metadata": {},
     "output_type": "execute_result"
    }
   ],
   "source": [
    "UCF_to_20.keys()"
   ]
  },
  {
   "cell_type": "code",
   "execution_count": 40,
   "metadata": {
    "collapsed": false,
    "scrolled": true
   },
   "outputs": [
    {
     "name": "stdout",
     "output_type": "stream",
     "text": [
      "processing UCF videos\n",
      "processing video 0\n",
      "processing video 50\n",
      "processing video 100\n",
      "processing video 150\n",
      "processing video 200\n",
      "processing video 250\n",
      "processing video 300\n",
      "processing video 350\n",
      "processing video 400\n",
      "processing video 450\n",
      "processing video 500\n",
      "processing video 550\n",
      "processing video 600\n",
      "processing video 650\n",
      "processing video 700\n",
      "processing video 750\n",
      "processing video 800\n",
      "processing video 850\n",
      "processing video 900\n",
      "processing video 950\n",
      "processing video 1000\n",
      "processing video 1050\n",
      "processing video 1100\n",
      "processing video 1150\n",
      "processing video 1200\n",
      "processing video 1250\n",
      "processing video 1300\n",
      "processing video 1350\n",
      "processing video 1400\n",
      "processing video 1450\n",
      "processing video 1500\n",
      "processing video 1550\n",
      "processing video 1600\n",
      "processing video 1650\n",
      "processing video 1700\n",
      "processing video 1750\n",
      "processing video 1800\n",
      "processing video 1850\n",
      "processing video 1900\n",
      "processing video 1950\n",
      "processing video 2000\n",
      "processing video 2050\n",
      "processing video 2100\n",
      "processing video 2150\n",
      "processing video 2200\n",
      "processing video 2250\n",
      "processing video 2300\n",
      "processing video 2350\n",
      "processing video 2400\n",
      "processing video 2450\n",
      "processing video 2500\n",
      "processing video 2550\n",
      "processing video 2600\n",
      "processing video 2650\n",
      "processing video 2700\n",
      "processing video 2750\n",
      "processing Validation videos\n",
      "processing video 0\n",
      "processing video 50\n",
      "processing video 100\n",
      "processing video 150\n",
      "processing Testing videos\n",
      "processing video 0\n",
      "processing video 50\n",
      "processing video 100\n",
      "processing video 150\n",
      "processing video 200\n",
      "processing video 250\n",
      "processing video 300\n"
     ]
    }
   ],
   "source": [
    "def makeList(writer,data_dir,vidmap):           \n",
    "    videos = [d for d in os.listdir(data_dir) if vidmap[d] in UCF_to_20.keys()]\n",
    "    for idx, video in enumerate(videos):\n",
    "        if idx % 50 ==0:\n",
    "            print \"processing video %d\" % idx\n",
    "        #print \"processing video %s\" %video\n",
    "        path_to_video = os.path.join(data_dir,video)\n",
    "        for frame in os.listdir(path_to_video):\n",
    "            get_dot_jpg = frame.split('.')\n",
    "            if len(get_dot_jpg) > 1 and get_dot_jpg[1] != \"pkl\":\n",
    "                frame_name = video+\"/\"+frame\n",
    "                if FULLPATH:\n",
    "                    frame_name = os.path.join(path_to_video,frame)\n",
    "                #Now we need to know the label of this image.\n",
    "                frame_index = UCF_to_20[vidmap[video]]\n",
    "                #print frame_name, frame_index\n",
    "                writer.writerow([frame_name, frame_index])\n",
    "                \n",
    "\n",
    "def makeTrainList():\n",
    "    save_list = \"./lists/fullpath_train_list.txt\"\n",
    "    with open(save_list,'wb') as f:\n",
    "        writer = csv.writer(f, delimiter=' ')\n",
    "        print \"processing UCF videos\"\n",
    "        makeList(writer,UCF_DIR,UCF_vidmap)\n",
    "        print \"processing Validation videos\"\n",
    "        makeList(writer,VALID_DIR,VALID_vidmap)\n",
    "    \n",
    "def makeTestList():\n",
    "    save_list = \"./lists/fullpath_test_list.txt\"\n",
    "    with open(save_list,'wb') as f:\n",
    "        writer = csv.writer(f, delimiter=' ')\n",
    "        print \"processing Testing videos\"\n",
    "        makeList(writer,TEST_DIR,TEST_vidmap)                    \n",
    "        \n",
    "        \n",
    "makeTrainList()\n",
    "makeTestList()\n"
   ]
  },
  {
   "cell_type": "code",
   "execution_count": null,
   "metadata": {
    "collapsed": true
   },
   "outputs": [],
   "source": []
  }
 ],
 "metadata": {
  "kernelspec": {
   "display_name": "Python 2",
   "language": "python",
   "name": "python2"
  },
  "language_info": {
   "codemirror_mode": {
    "name": "ipython",
    "version": 2
   },
   "file_extension": ".py",
   "mimetype": "text/x-python",
   "name": "python",
   "nbconvert_exporter": "python",
   "pygments_lexer": "ipython2",
   "version": "2.7.3"
  }
 },
 "nbformat": 4,
 "nbformat_minor": 0
}
