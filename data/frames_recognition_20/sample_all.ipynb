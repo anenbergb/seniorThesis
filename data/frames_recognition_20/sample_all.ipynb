{
 "cells": [
  {
   "cell_type": "code",
   "execution_count": 1,
   "metadata": {
    "collapsed": false
   },
   "outputs": [],
   "source": [
    "import pandas as pd\n",
    "import os\n",
    "import numpy as np\n",
    "import pickle\n",
    "\n",
    "experiment_dir = '/afs/cs.stanford.edu/u/anenberg/scr/snrThesis/data/frames_recognition_20/lists'\n",
    "filenames = ['fullpath_train_list.txt', 'fullpath_test_list.txt']\n",
    "num_samples = 100\n",
    "optical_flow_offset = 0\n"
   ]
  },
  {
   "cell_type": "code",
   "execution_count": 2,
   "metadata": {
    "collapsed": false
   },
   "outputs": [
    {
     "name": "stdout",
     "output_type": "stream",
     "text": [
      "writing shuffle_sampled_t1_100_fullpath_train_list.txt\n",
      "Loaded fullpath_train_list.txt\n",
      "Computed Boundaries\n",
      "Finding video samples\n",
      "Done video samples\n",
      "0\n",
      "writing shuffle_sampled_t1_100_fullpath_test_list.txt\n",
      "Loaded fullpath_test_list.txt\n",
      "Computed Boundaries\n",
      "Finding video samples\n",
      "Done video samples\n",
      "0\n"
     ]
    }
   ],
   "source": [
    "# load data\n",
    "\n",
    "is_shuffle = True\n",
    "is_use_shot_detection = False\n",
    "output_file_number = 1\n",
    "\n",
    "for filename in filenames:\n",
    "    output_file = 'sampled_t%d_%d_%s'%(output_file_number,num_samples, filename)\n",
    "    if is_use_shot_detection:\n",
    "        output_file = 'shotdetect_sampled_t%d_%d_%s'%(output_file_number,num_samples, filename)\n",
    "    if is_shuffle:\n",
    "        output_file = '%s_%s'%('shuffle', output_file)\n",
    "    print 'writing %s'%output_file\n",
    "    df = pd.read_csv(os.path.join(experiment_dir, filename), delimiter = ' ', header = None, names = ['filename', 'class_id'])\n",
    "    print 'Loaded %s'%filename\n",
    "    \n",
    "    df['video_name'] = df.filename.apply(lambda x: x.split('/')[-2])\n",
    "    df['frame_id'] = df.filename.apply(lambda x: x.split('/')[-1])\n",
    "\n",
    "    # find the locations of changes\n",
    "    flags = df.video_name != df.video_name.shift(1)\n",
    "    flags.append(pd.Series(1, [len(df)]))\n",
    "    breaks = pd.Series(np.where(flags == True)[0], dtype=np.uint32)\n",
    "    boundaries = zip(breaks, breaks.shift(-1))[:-1]\n",
    "    print 'Computed Boundaries'\n",
    "    \n",
    "    sub_indices = []\n",
    "\n",
    "    print 'Finding video samples'\n",
    "    num_failures = 0\n",
    "    for boundary in boundaries:\n",
    "        start, end = int(boundary[0]), int(boundary[1])\n",
    "        small_df = df[start:end]\n",
    "        if (end - start < num_samples):\n",
    "            sub_indices.append(range(start, end))\n",
    "        else:\n",
    "            video_name = df.video_name[start]\n",
    "\n",
    "            if is_use_shot_detection and (video_name.startswith('video_test') or video_name.startswith('video_valid')):\n",
    "                try:\n",
    "                    video_length_in_frames = end - start\n",
    "                    with open(os.path.join('/afs/cs.stanford.edu/u/anenberg/scr/CS231N/allFrames/sceneTransitions/', '%s.pkl'%df.video_name[start]), 'r+') as f:\n",
    "                        peaks = pickle.load(f)\n",
    "                    sub_indices.append(cut_and_randomly_select(peaks, num_samples=num_samples, optical_flow_offset =optical_flow_offset, offset = start))\n",
    "                except:\n",
    "                    sub_indices.append(np.random.choice(small_df.index, num_samples, replace=False))\n",
    "                    num_failures += 1\n",
    "            else:\n",
    "                if len(small_df.index) < optical_flow_offset+num_samples:\n",
    "                    continue\n",
    "                #don't sample from any frame whose optical flow pair is guarenteed to be out of range\n",
    "                if optical_flow_offset>0:\n",
    "                    sample_range = small_df.index[:-optical_flow_offset]\n",
    "                else:\n",
    "                    sample_range = small_df.index\n",
    "                sub_indices.append(np.random.choice(sample_range, num_samples, replace=False))\n",
    "    print 'Done video samples'\n",
    "    \n",
    "    \n",
    "    # turn a list of lists into a flat list\n",
    "    flat = [x for sublist in sub_indices for x in sublist] \n",
    "    # generate the sampled df from the indices\n",
    "    sampled_df = df.ix[flat]\n",
    "    if is_shuffle:\n",
    "        sampled_df = sampled_df.loc[np.random.permutation(sampled_df.index)]\n",
    "    # write the fields to csv\n",
    "    sampled_df[['filename', 'class_id']].to_csv(os.path.join(experiment_dir, output_file), header = False, index = False, sep = ' ')\n",
    "    print num_failures"
   ]
  },
  {
   "cell_type": "code",
   "execution_count": 7,
   "metadata": {
    "collapsed": true
   },
   "outputs": [],
   "source": [
    "df = pd.read_csv(os.path.join(experiment_dir, filenames[1]), delimiter = ' ', header = None, names = ['filename', 'class_id'])"
   ]
  },
  {
   "cell_type": "code",
   "execution_count": null,
   "metadata": {
    "collapsed": true
   },
   "outputs": [],
   "source": []
  }
 ],
 "metadata": {
  "kernelspec": {
   "display_name": "Python 2",
   "language": "python",
   "name": "python2"
  },
  "language_info": {
   "codemirror_mode": {
    "name": "ipython",
    "version": 2
   },
   "file_extension": ".py",
   "mimetype": "text/x-python",
   "name": "python",
   "nbconvert_exporter": "python",
   "pygments_lexer": "ipython2",
   "version": "2.7.3"
  }
 },
 "nbformat": 4,
 "nbformat_minor": 0
}
