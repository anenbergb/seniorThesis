{
 "cells": [
  {
   "cell_type": "code",
   "execution_count": 1,
   "metadata": {
    "collapsed": true
   },
   "outputs": [],
   "source": [
    "import numpy as np\n",
    "import pickle\n",
    "import os, csv, sys\n",
    "sys.path.append(\"../../code/\")\n",
    "import avconv\n",
    "%load_ext autoreload\n",
    "%autoreload 2"
   ]
  },
  {
   "cell_type": "code",
   "execution_count": 2,
   "metadata": {
    "collapsed": true
   },
   "outputs": [],
   "source": [
    "import subprocess"
   ]
  },
  {
   "cell_type": "code",
   "execution_count": 22,
   "metadata": {
    "collapsed": false
   },
   "outputs": [],
   "source": [
    "JPG_dir = './UCF/v_ApplyEyeMakeup_g08_c01/JPG'\n",
    "os.makedirs(JPG_dir)\n"
   ]
  },
  {
   "cell_type": "code",
   "execution_count": 30,
   "metadata": {
    "collapsed": false
   },
   "outputs": [
    {
     "name": "stdout",
     "output_type": "stream",
     "text": [
      "00000001.jpg  00000021.jpg  00000041.jpg  00000061.jpg\t00000081.jpg  00000101.jpg\r\n",
      "00000002.jpg  00000022.jpg  00000042.jpg  00000062.jpg\t00000082.jpg  00000102.jpg\r\n",
      "00000003.jpg  00000023.jpg  00000043.jpg  00000063.jpg\t00000083.jpg  00000103.jpg\r\n",
      "00000004.jpg  00000024.jpg  00000044.jpg  00000064.jpg\t00000084.jpg  00000104.jpg\r\n",
      "00000005.jpg  00000025.jpg  00000045.jpg  00000065.jpg\t00000085.jpg  00000105.jpg\r\n",
      "00000006.jpg  00000026.jpg  00000046.jpg  00000066.jpg\t00000086.jpg  00000106.jpg\r\n",
      "00000007.jpg  00000027.jpg  00000047.jpg  00000067.jpg\t00000087.jpg  00000107.jpg\r\n",
      "00000008.jpg  00000028.jpg  00000048.jpg  00000068.jpg\t00000088.jpg  00000108.jpg\r\n",
      "00000009.jpg  00000029.jpg  00000049.jpg  00000069.jpg\t00000089.jpg  00000109.jpg\r\n",
      "00000010.jpg  00000030.jpg  00000050.jpg  00000070.jpg\t00000090.jpg  00000110.jpg\r\n",
      "00000011.jpg  00000031.jpg  00000051.jpg  00000071.jpg\t00000091.jpg  00000111.jpg\r\n",
      "00000012.jpg  00000032.jpg  00000052.jpg  00000072.jpg\t00000092.jpg  00000112.jpg\r\n",
      "00000013.jpg  00000033.jpg  00000053.jpg  00000073.jpg\t00000093.jpg  00000113.jpg\r\n",
      "00000014.jpg  00000034.jpg  00000054.jpg  00000074.jpg\t00000094.jpg  00000114.jpg\r\n",
      "00000015.jpg  00000035.jpg  00000055.jpg  00000075.jpg\t00000095.jpg  00000115.jpg\r\n",
      "00000016.jpg  00000036.jpg  00000056.jpg  00000076.jpg\t00000096.jpg  00000116.jpg\r\n",
      "00000017.jpg  00000037.jpg  00000057.jpg  00000077.jpg\t00000097.jpg  00000117.jpg\r\n",
      "00000018.jpg  00000038.jpg  00000058.jpg  00000078.jpg\t00000098.jpg  00000118.jpg\r\n",
      "00000019.jpg  00000039.jpg  00000059.jpg  00000079.jpg\t00000099.jpg  00000119.jpg\r\n",
      "00000020.jpg  00000040.jpg  00000060.jpg  00000080.jpg\t00000100.jpg\r\n"
     ]
    }
   ],
   "source": [
    "!ls UCF/v_ApplyEyeMakeup_g08_c01/JPG\n",
    "#!cp -r UCF/v_ApplyEyeMakeup_g08_c01/JPG ../../../FastVideoSegment/Data/inputs/v_ApplyEyeMakeup_g08_c01"
   ]
  },
  {
   "cell_type": "code",
   "execution_count": 25,
   "metadata": {
    "collapsed": false
   },
   "outputs": [
    {
     "data": {
      "text/plain": [
       "1"
      ]
     },
     "execution_count": 25,
     "metadata": {},
     "output_type": "execute_result"
    }
   ],
   "source": [
    "video = '/afs/cs.stanford.edu/group/cvgl/rawdata/THUMOS2014/Training/videos/v_ApplyEyeMakeup_g08_c01.avi'\n",
    "subprocess.call(['avconv', '-i', video, JPG_dir+'/%08d.jpg'])"
   ]
  },
  {
   "cell_type": "code",
   "execution_count": 69,
   "metadata": {
    "collapsed": false
   },
   "outputs": [
    {
     "name": "stdout",
     "output_type": "stream",
     "text": [
      "258\r\n"
     ]
    }
   ],
   "source": [
    "#! ls UCF/\n",
    "!ls UCF/v_ApplyEyeMakeup_g09_c02/Frames | wc -l\n",
    "#! du -h ./Validation/"
   ]
  },
  {
   "cell_type": "code",
   "execution_count": 83,
   "metadata": {
    "collapsed": false
   },
   "outputs": [
    {
     "name": "stdout",
     "output_type": "stream",
     "text": [
      "4527\r\n"
     ]
    }
   ],
   "source": [
    "#video_validation_0000005\n",
    "! ls ./Validation/video_validation_0000005/Frames/ | wc -l"
   ]
  },
  {
   "cell_type": "code",
   "execution_count": 59,
   "metadata": {
    "collapsed": false
   },
   "outputs": [
    {
     "data": {
      "text/plain": [
       "12"
      ]
     },
     "execution_count": 59,
     "metadata": {},
     "output_type": "execute_result"
    }
   ],
   "source": [
    "6*120/60"
   ]
  },
  {
   "cell_type": "code",
   "execution_count": null,
   "metadata": {
    "collapsed": true
   },
   "outputs": [],
   "source": []
  }
 ],
 "metadata": {
  "kernelspec": {
   "display_name": "Python 2",
   "language": "python",
   "name": "python2"
  },
  "language_info": {
   "codemirror_mode": {
    "name": "ipython",
    "version": 2
   },
   "file_extension": ".py",
   "mimetype": "text/x-python",
   "name": "python",
   "nbconvert_exporter": "python",
   "pygments_lexer": "ipython2",
   "version": "2.7.3"
  }
 },
 "nbformat": 4,
 "nbformat_minor": 0
}
