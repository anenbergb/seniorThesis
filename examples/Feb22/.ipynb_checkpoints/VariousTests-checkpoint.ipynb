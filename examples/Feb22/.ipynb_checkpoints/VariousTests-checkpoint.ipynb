{
 "cells": [
  {
   "cell_type": "code",
   "execution_count": 30,
   "metadata": {
    "collapsed": false
   },
   "outputs": [
    {
     "name": "stdout",
     "output_type": "stream",
     "text": [
      "The autoreload extension is already loaded. To reload it, use:\n",
      "  %reload_ext autoreload\n"
     ]
    }
   ],
   "source": [
    "import numpy as np\n",
    "import pickle\n",
    "import os, csv, sys\n",
    "sys.path.append(\"../../code/\")\n",
    "import avconv\n",
    "%load_ext autoreload\n",
    "%autoreload 2"
   ]
  },
  {
   "cell_type": "code",
   "execution_count": 18,
   "metadata": {
    "collapsed": false
   },
   "outputs": [],
   "source": [
    "mapNames = [\"UCF_vidmap.pkl\", \"VALID_vidmap.pkl\", \"Test_vidmap.pkl\"]\n",
    "with open(mapNames[0]) as f:\n",
    "    id_to_vid, vid_to_id = pickle.load(f)"
   ]
  },
  {
   "cell_type": "code",
   "execution_count": 11,
   "metadata": {
    "collapsed": false
   },
   "outputs": [],
   "source": [
    "with open('class_index.pkl','r') as f:\n",
    "    class_index, index_class = pickle.load(f)"
   ]
  },
  {
   "cell_type": "code",
   "execution_count": 26,
   "metadata": {
    "collapsed": false
   },
   "outputs": [],
   "source": [
    "with open(\"testing.txt\", 'wb') as f:\n",
    "    writer = csv.writer(f, delimiter=' ')\n",
    "    vid_name = 'v_ApplyEyeMakeup_g08_c01.avi'\n",
    "    class_id = 0\n",
    "    writer.writerow([vid_name, class_id])"
   ]
  },
  {
   "cell_type": "code",
   "execution_count": 4,
   "metadata": {
    "collapsed": true
   },
   "outputs": [],
   "source": [
    "VALID_DIR = './Validation'\n",
    "os.makedirs(VALID_DIR)\n"
   ]
  },
  {
   "cell_type": "code",
   "execution_count": 5,
   "metadata": {
    "collapsed": false
   },
   "outputs": [
    {
     "data": {
      "text/plain": [
       "0"
      ]
     },
     "execution_count": 5,
     "metadata": {},
     "output_type": "execute_result"
    }
   ],
   "source": [
    "exampleVid = '/afs/cs.stanford.edu/group/cvgl/rawdata/THUMOS2014/Validation/videos/video_validation_0001001.mp4'\n",
    "avconv.extract_frames(exampleVid,VALID_DIR)"
   ]
  },
  {
   "cell_type": "code",
   "execution_count": 7,
   "metadata": {
    "collapsed": false
   },
   "outputs": [
    {
     "data": {
      "text/plain": [
       "39.8"
      ]
     },
     "execution_count": 7,
     "metadata": {},
     "output_type": "execute_result"
    }
   ],
   "source": [
    "avconv.getDuration(exampleVid)"
   ]
  },
  {
   "cell_type": "raw",
   "metadata": {},
   "source": [
    "43M\t./video_validation_0001001/Frames\n",
    "197M\t./video_validation_0001001/ppm\n",
    "240M\t./video_validation_0001001\n",
    "\n",
    "Lower bound of 10 seconds would equate to 60.3Mb\n",
    "So, upper bound of 240 second video would equate to 1.4 Gb of space.\n",
    "\n",
    "For ucf_list.txt : 13,320 videos at approximately 10 seconds each. >> 784 Gb\n",
    "For valid_list.txt : 779 videos >> 1090 Gb (upper bound)\n",
    "For test_list.txt : 1345 >> 1883 Gb\n"
   ]
  },
  {
   "cell_type": "code",
   "execution_count": 13,
   "metadata": {
    "collapsed": false
   },
   "outputs": [
    {
     "data": {
      "text/plain": [
       "60.301507537688444"
      ]
     },
     "execution_count": 13,
     "metadata": {},
     "output_type": "execute_result"
    }
   ],
   "source": [
    "x = (240*10)/39.8\n",
    "x"
   ]
  },
  {
   "cell_type": "code",
   "execution_count": 12,
   "metadata": {
    "collapsed": false
   },
   "outputs": [
    {
     "name": "stdout",
     "output_type": "stream",
     "text": [
      "1345 ./test_list.txt\r\n"
     ]
    }
   ],
   "source": [
    "!wc -l ./test_list.txt"
   ]
  },
  {
   "cell_type": "code",
   "execution_count": 24,
   "metadata": {
    "collapsed": false
   },
   "outputs": [
    {
     "data": {
      "text/plain": [
       "1882.9999999999998"
      ]
     },
     "execution_count": 24,
     "metadata": {},
     "output_type": "execute_result"
    }
   ],
   "source": [
    "1.4*1345"
   ]
  },
  {
   "cell_type": "code",
   "execution_count": 20,
   "metadata": {
    "collapsed": false
   },
   "outputs": [
    {
     "name": "stdout",
     "output_type": "stream",
     "text": [
      "126K\t/afs/cs.stanford.edu/group/cvgl/rawdata/THUMOS2014/Validation/annotation\r\n",
      "79G\t/afs/cs.stanford.edu/group/cvgl/rawdata/THUMOS2014/Validation/videos\r\n",
      "79G\t/afs/cs.stanford.edu/group/cvgl/rawdata/THUMOS2014/Validation/\r\n"
     ]
    }
   ],
   "source": [
    "!du -h /afs/cs.stanford.edu/group/cvgl/rawdata/THUMOS2014/Validation/"
   ]
  },
  {
   "cell_type": "code",
   "execution_count": 28,
   "metadata": {
    "collapsed": false
   },
   "outputs": [],
   "source": [
    "listname = './ucf_list.txt'\n",
    "vid_to_extract = []\n",
    "length = 0\n",
    "num = 10\n",
    "with open(listname, 'r+') as f:\n",
    "    data = csv.reader(f, delimiter=' ')\n",
    "    for row in data:\n",
    "        if length <= num:\n",
    "            #e.g, filename.avi we want filename\n",
    "            videoName = row[0]\n",
    "            vid_to_extract.append(videoName)\n",
    "            length +=1  "
   ]
  },
  {
   "cell_type": "raw",
   "metadata": {},
   "source": [
    "Experiments with loading the tubelet files.\n",
    "\n",
    "svoxboxes is nx1 cell array, s=1:n-1 are for different chosen strategies (in setup_paths.m) and svoxboxes{n} is for initial voxels.\n",
    "\n",
    "svoxboxes{s} is: nr_tubelets X nr_frames X 4 \n",
    "\n",
    "'nr_tubelets' is number of tubelets in the video for strategy 's'\n",
    "'nr_frames' is number of frames in video 'v'.\n",
    "\n",
    "For each tubelet in each frame we have a bounding box as: [ymin xmin ymax xmax].\n",
    "If tubelet is not present in a frame then we have [0 0 0 0].\n"
   ]
  },
  {
   "cell_type": "code",
   "execution_count": 120,
   "metadata": {
    "collapsed": false
   },
   "outputs": [
    {
     "name": "stdout",
     "output_type": "stream",
     "text": [
      "AC_IMEmap  Frames  ppm\tppm_c200_sz500\tsvox  tubelet.mat\r\n"
     ]
    }
   ],
   "source": [
    "UCF/v_ApplyEyeMakeup_g08_c01/tubelet.mat"
   ]
  },
  {
   "cell_type": "code",
   "execution_count": 117,
   "metadata": {
    "collapsed": true
   },
   "outputs": [],
   "source": [
    "import scipy.io as sio"
   ]
  },
  {
   "cell_type": "code",
   "execution_count": 121,
   "metadata": {
    "collapsed": true
   },
   "outputs": [],
   "source": [
    "tubelet = sio.loadmat('./UCF/v_ApplyEyeMakeup_g08_c01/tubelet.mat')\n",
    "priority = tubelet['priority']\n",
    "svoxboxes = tubelet['svoxboxes']\n"
   ]
  },
  {
   "cell_type": "code",
   "execution_count": null,
   "metadata": {
    "collapsed": true
   },
   "outputs": [],
   "source": []
  },
  {
   "cell_type": "code",
   "execution_count": null,
   "metadata": {
    "collapsed": true
   },
   "outputs": [],
   "source": [
    "# svoxboxes[0][0:5] are for the different chosen strategies, svoxboxes[0][6] is initial voxels.\n",
    "print svoxboxes[0][0:5].shape\n",
    "#There are 1241 tublets. 55 frames, 4 points (bound box) per frame.\n",
    "print svoxboxes[0][2].shape\n",
    "#svoxboxes[0][2][400]"
   ]
  }
 ],
 "metadata": {
  "kernelspec": {
   "display_name": "Python 2",
   "language": "python",
   "name": "python2"
  },
  "language_info": {
   "codemirror_mode": {
    "name": "ipython",
    "version": 2
   },
   "file_extension": ".py",
   "mimetype": "text/x-python",
   "name": "python",
   "nbconvert_exporter": "python",
   "pygments_lexer": "ipython2",
   "version": "2.7.3"
  }
 },
 "nbformat": 4,
 "nbformat_minor": 0
}
