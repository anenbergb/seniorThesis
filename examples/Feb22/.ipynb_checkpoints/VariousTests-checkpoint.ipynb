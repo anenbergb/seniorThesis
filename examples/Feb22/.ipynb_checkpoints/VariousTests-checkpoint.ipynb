{
 "cells": [
  {
   "cell_type": "code",
   "execution_count": 29,
   "metadata": {
    "collapsed": false
   },
   "outputs": [],
   "source": [
    "import numpy as np\n",
    "import pickle\n",
    "import os, csv, sys\n",
    "sys.path.append(\"../../code/\")\n",
    "import avconv"
   ]
  },
  {
   "cell_type": "code",
   "execution_count": 18,
   "metadata": {
    "collapsed": false
   },
   "outputs": [],
   "source": [
    "mapNames = [\"UCF_vidmap.pkl\", \"VALID_vidmap.pkl\", \"Test_vidmap.pkl\"]\n",
    "with open(mapNames[0]) as f:\n",
    "    id_to_vid, vid_to_id = pickle.load(f)"
   ]
  },
  {
   "cell_type": "code",
   "execution_count": 11,
   "metadata": {
    "collapsed": false
   },
   "outputs": [],
   "source": [
    "with open('class_index.pkl','r') as f:\n",
    "    class_index, index_class = pickle.load(f)"
   ]
  },
  {
   "cell_type": "code",
   "execution_count": 26,
   "metadata": {
    "collapsed": false
   },
   "outputs": [],
   "source": [
    "with open(\"testing.txt\", 'wb') as f:\n",
    "    writer = csv.writer(f, delimiter=' ')\n",
    "    vid_name = 'v_ApplyEyeMakeup_g08_c01.avi'\n",
    "    class_id = 0\n",
    "    writer.writerow([vid_name, class_id])"
   ]
  },
  {
   "cell_type": "code",
   "execution_count": null,
   "metadata": {
    "collapsed": true
   },
   "outputs": [],
   "source": []
  }
 ],
 "metadata": {
  "kernelspec": {
   "display_name": "Python 2",
   "language": "python",
   "name": "python2"
  },
  "language_info": {
   "codemirror_mode": {
    "name": "ipython",
    "version": 2
   },
   "file_extension": ".py",
   "mimetype": "text/x-python",
   "name": "python",
   "nbconvert_exporter": "python",
   "pygments_lexer": "ipython2",
   "version": "2.7.3"
  }
 },
 "nbformat": 4,
 "nbformat_minor": 0
}
