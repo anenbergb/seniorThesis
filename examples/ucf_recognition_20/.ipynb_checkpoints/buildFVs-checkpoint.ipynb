{
 "cells": [
  {
   "cell_type": "markdown",
   "metadata": {},
   "source": [
    "\n",
    "\n",
    "3 different feature based approaches\n",
    "1. bag of visual features: \n",
    "    * Create 4000 dim histogram of centroids the features are assigned to. (per descriptor)\n",
    "2. BoV with spatio-temporal pyramid.\n",
    "    * concatenate the 6 4000 dim histograms together. split video into 2 time blocks, 3 horiziontal strips.\n",
    "\n",
    "3. Fisher Vectors (using pre-computed IDTFs quantized to 4000 codewords)\n",
    "    * PCA to reduce descriptor dimensions by 2\n",
    "    * create k=256 GMMs randomly sampling subset of 256,000 features from training set\n",
    "    * Create 2DK FV for each descriptor.\n",
    "    * concatenate the FVs together for one video.\n",
    "\n",
    "4. FVs as in 3, but with spatio-temporal pyramid\n",
    "\n",
    "5. FVs (recomputing the IDTFs), compare performance to 3.\n",
    "    "
   ]
  },
  {
   "cell_type": "code",
   "execution_count": 1,
   "metadata": {
    "collapsed": false
   },
   "outputs": [
    {
     "name": "stdout",
     "output_type": "stream",
     "text": [
      "Populating the interactive namespace from numpy and matplotlib\n"
     ]
    }
   ],
   "source": [
    "#python $SRC\"consolidateFiles.py\" $UCF_DIR -l $UCF_FULL | python $SRC\"gmm.py\" 256 $PROJ_DIR -s 0.005\n",
    "import pandas as pd\n",
    "import numpy as np\n",
    "import matplotlib, os\n",
    "%pylab inline"
   ]
  },
  {
   "cell_type": "markdown",
   "metadata": {},
   "source": [
    "#(1) BoVs \n",
    "## Read in the pre-computed IDTFs into a data frame per video\n",
    "## Histogram the traj_index, hog_index, hof_index, and mbh_index into 4 video level 4000 dimensional histograms"
   ]
  },
  {
   "cell_type": "code",
   "execution_count": 2,
   "metadata": {
    "collapsed": false
   },
   "outputs": [],
   "source": [
    "train_list = \"../../data/ucf_recognition_20/lists_IDTF/train_list.txt\"\n",
    "test_list = \"../../data/ucf_recognition_20/lists_IDTF/test_list.txt\""
   ]
  },
  {
   "cell_type": "code",
   "execution_count": 3,
   "metadata": {
    "collapsed": false
   },
   "outputs": [],
   "source": [
    "def np_hist(series, normalize=True):\n",
    "    \"\"\"\n",
    "    normalize: divides the histogram by the sum of the elements.\n",
    "    \"\"\"\n",
    "    hist = np.zeros((4000))\n",
    "    for _,row in series.iteritems():\n",
    "        hist[row] += 1\n",
    "    if normalize:\n",
    "        hist *= (1000/sum(hist))\n",
    "    return hist\n",
    "\n",
    "\n",
    "def get_vectors(data_list):\n",
    "    list_df = pd.read_csv(data_list, delimiter = ' ', header = None, names = ['filename', 'class_id'])\n",
    "    list_df['video_name'] = list_df.filename.apply(lambda x: os.path.basename(x).split('.')[0])\n",
    "    #vectors = {}\n",
    "    num_videos = list_df.shape[0]\n",
    "    data = np.zeros((num_videos,16000))\n",
    "    true_label = np.zeros((num_videos))\n",
    "    video_names = \n",
    "    for index, row in list_df.iterrows():\n",
    "        if index % 50 == 0:\n",
    "            print \"processed %d videos\" % index\n",
    "        df = pd.read_csv(row.filename, delimiter = '\\t', header = None, index_col=False,\\\n",
    "                         names = ['Frame_num', 'mean_x', 'mean_y', 'Traj_index', 'HOG_index', 'HOF_index', 'MBH_index'])\n",
    "        hists = []\n",
    "        for column in ['Traj_index', 'HOG_index', 'HOF_index', 'MBH_index']:\n",
    "            hists.append(np_hist(df[column]))\n",
    "        hist_vector = np.hstack(hists)\n",
    "        vectors[row.video_name] = (vid_vector,row.class_id)\n",
    "    return vectors"
   ]
  },
  {
   "cell_type": "code",
   "execution_count": 4,
   "metadata": {
    "collapsed": true
   },
   "outputs": [
    {
     "name": "stdout",
     "output_type": "stream",
     "text": [
      "processed 0 videos\n",
      "processed 50 videos\n",
      "processed 100 videos\n",
      "processed 150 videos\n",
      "processed 200 videos\n",
      "processed 250 videos\n",
      "processed 300 videos\n",
      "processed 350 videos\n",
      "processed 400 videos\n",
      "processed 450 videos\n",
      "processed 500 videos\n",
      "processed 550 videos\n",
      "processed 600 videos\n",
      "processed 650 videos\n",
      "processed 700 videos\n",
      "processed 750 videos\n",
      "processed 800 videos\n",
      "processed 850 videos\n",
      "processed 900 videos\n",
      "processed 950 videos\n",
      "processed 1000 videos\n",
      "processed 1050 videos\n",
      "processed 1100 videos\n",
      "processed 1150 videos\n",
      "processed 1200 videos\n",
      "processed 1250 videos\n",
      "processed 1300 videos\n",
      "processed 1350 videos\n",
      "processed 1400 videos\n",
      "processed 1450 videos\n",
      "processed 1500 videos\n",
      "processed 1550 videos\n",
      "processed 1600 videos\n",
      "processed 1650 videos\n",
      "processed 1700 videos\n",
      "processed 1750 videos\n",
      "processed 1800 videos\n",
      "processed 1850 videos\n",
      "processed 1900 videos\n",
      "processed 0 videos\n",
      "processed 50 videos\n",
      "processed 100 videos\n",
      "processed 150 videos\n",
      "processed 200 videos\n",
      "processed 250 videos\n",
      "processed 300 videos\n",
      "processed 350 videos\n",
      "processed 400 videos\n",
      "processed 450 videos\n",
      "processed 500 videos\n",
      "processed 550 videos\n",
      "processed 600 videos\n",
      "processed 650 videos\n",
      "processed 700 videos\n",
      "processed 750 videos\n",
      "processed 800 videos\n"
     ]
    }
   ],
   "source": [
    "train_data = get_vectors(train_list)\n",
    "test_data = get_vectors(test_list)\n"
   ]
  },
  {
   "cell_type": "code",
   "execution_count": 5,
   "metadata": {
    "collapsed": true
   },
   "outputs": [],
   "source": [
    "np.savez('./features_bov', train=train_data, test=test_data)\n"
   ]
  },
  {
   "cell_type": "code",
   "execution_count": 101,
   "metadata": {
    "collapsed": false
   },
   "outputs": [
    {
     "data": {
      "image/png": "[encoded data removed]",
      "text/plain": [
       "<matplotlib.figure.Figure at 0x4effd10>"
      ]
     },
     "metadata": {},
     "output_type": "display_data"
    }
   ],
   "source": [
    "plt.bar(range(16000), vid_vector)\n",
    "plt.show()"
   ]
  }
 ],
 "metadata": {
  "language_info": {
   "codemirror_mode": {
    "name": "ipython",
    "version": 2
   },
   "file_extension": ".py",
   "mimetype": "text/x-python",
   "name": "python",
   "nbconvert_exporter": "python",
   "pygments_lexer": "ipython2",
   "version": "2.7.3"
  }
 },
 "nbformat": 4,
 "nbformat_minor": 0
}
