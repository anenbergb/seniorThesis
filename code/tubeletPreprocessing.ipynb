{
 "cells": [
  {
   "cell_type": "raw",
   "metadata": {},
   "source": [
    "Filters out the long videos that will take too much time to process."
   ]
  },
  {
   "cell_type": "code",
   "execution_count": 1,
   "metadata": {
    "collapsed": false
   },
   "outputs": [],
   "source": [
    "import numpy as np\n",
    "%load_ext autoreload\n",
    "%autoreload 2\n",
    "import avconv"
   ]
  },
  {
   "cell_type": "code",
   "execution_count": 2,
   "metadata": {
    "collapsed": true
   },
   "outputs": [],
   "source": [
    "#The video data can come from a number of different directories.\n",
    "UCF_DIR=\"/afs/cs.stanford.edu/group/cvgl/rawdata/THUMOS2014/Training/videos/\"\n",
    "VALID_DIR=\"/afs/cs.stanford.edu/group/cvgl/rawdata/THUMOS2014/Validation/videos/\"\n",
    "BACK_DIR=\"/afs/cs.stanford.edu/group/cvgl/rawdata/THUMOS2014/Background/videos/\"\n",
    "TEST_DIR=\"/afs/cs.stanford.edu/group/cvgl/rawdata/THUMOS2014/Test/videos/\"\n",
    "\n",
    "#Full data sets\n",
    "UCF_FULL=\"/afs/cs.stanford.edu/group/cvgl/rawdata/THUMOS2014/Training/train_set.txt\"\n",
    "VALID_FULL=\"/afs/cs.stanford.edu/group/cvgl/rawdata/THUMOS2014/Validation/validation_primaryclass.txt\"\n",
    "BACK_FULL=\"\"\n",
    "TEST_FULL=\"/afs/cs.stanford.edu/group/cvgl/rawdata/THUMOS2014/Test/test_primaryclass.txt\"\n",
    "\n",
    "#The training and testing cuts.\n",
    "UCF_train1=\"/afs/cs.stanford.edu/group/cvgl/rawdata/THUMOS2014/Training/ucfTrainTestlist/trainlist01.txt\"\n",
    "UCF_test1=\"/afs/cs.stanford.edu/group/cvgl/rawdata/THUMOS2014/Training/ucfTrainTestlist/testlist01.txt\"\n",
    "\n",
    "\n",
    "UCF_firstFrame_10_train = \"/afs/cs.stanford.edu/group/cvgl/rawdata/THUMOS2014/Training/firstFrame_10_train\"\n",
    "UCF_firstFrame_10_val = \"/afs/cs.stanford.edu/group/cvgl/rawdata/THUMOS2014/Training/firstFrame_10_val\"\n",
    "\n",
    "UCF_firstFrame_train = \"/afs/cs.stanford.edu/group/cvgl/rawdata/THUMOS2014/Training/firstFrame_train\"\n",
    "UCF_firstFrame_val = \"/afs/cs.stanford.edu/group/cvgl/rawdata/THUMOS2014/Training/firstFrame_val\"\n",
    "\n",
    "import matplotlib.pyplot as plt\n",
    "import os\n",
    "%matplotlib inline\n",
    "plt.rcParams['figure.figsize'] = (10.0, 8.0) # set default size of plots\n",
    "plt.rcParams['image.interpolation'] = 'nearest'\n",
    "plt.rcParams['image.cmap'] = 'gray'"
   ]
  },
  {
   "cell_type": "code",
   "execution_count": 12,
   "metadata": {
    "collapsed": true
   },
   "outputs": [],
   "source": [
    "exampleVid = '/afs/cs.stanford.edu/group/cvgl/rawdata/THUMOS2014/Validation/videos/video_validation_0001001.mp4'"
   ]
  },
  {
   "cell_type": "code",
   "execution_count": null,
   "metadata": {
    "collapsed": true
   },
   "outputs": [],
   "source": [
    "!avconv -i exampleVid 2>&1 | grep 'Duration' | awk '{print $2}' | sed s/,//"
   ]
  },
  {
   "cell_type": "code",
   "execution_count": 44,
   "metadata": {
    "collapsed": false
   },
   "outputs": [
    {
     "name": "stdout",
     "output_type": "stream",
     "text": [
      "00:00:39.80\r\n"
     ]
    }
   ],
   "source": [
    "!avconv -i /afs/cs.stanford.edu/group/cvgl/rawdata/THUMOS2014/Validation/videos/video_validation_0001001.mp4 \\\n",
    "! 2>&1 | grep 'Duration' | awk '{print $2}' | sed s/,//"
   ]
  },
  {
   "cell_type": "code",
   "execution_count": 92,
   "metadata": {
    "collapsed": false
   },
   "outputs": [
    {
     "name": "stdout",
     "output_type": "stream",
     "text": [
      "\u001b[0;39mavconv version 0.8.16-4:0.8.16-0ubuntu0.12.04.1, Copyright (c) 2000-2014 the Libav developers\r\n",
      "\u001b[0m\u001b[0;39m  built on Sep 16 2014 18:33:49 with gcc 4.6.3\r\n",
      "\u001b[0m\u001b[0;39mInput #0, mov,mp4,m4a,3gp,3g2,mj2, from '/afs/cs.stanford.edu/group/cvgl/rawdata/THUMOS2014/Validation/videos/video_validation_0001001.mp4':\r\n",
      "\u001b[0m\u001b[0;39m  Metadata:\r\n",
      "\u001b[0m\u001b[0;39m    major_brand     : isom\r\n",
      "\u001b[0m\u001b[0;39m    minor_version   : 512\r\n",
      "\u001b[0m\u001b[0;39m    compatible_brands: isomiso2avc1mp41\r\n",
      "\u001b[0m\u001b[0;39m    encoder         : Google\r\n",
      "\u001b[0m\u001b[0;39m  Duration: \u001b[0m\u001b[0;39m00:00:39.80\u001b[0m\u001b[0;39m, start: \u001b[0m\u001b[0;39m0.000000\u001b[0m\u001b[0;39m, bitrate: \u001b[0m\u001b[0;39m1217 kb/s\u001b[0m\u001b[0;39m\r\n",
      "\u001b[0m\u001b[0;39m    Stream #0.0\u001b[0m\u001b[0;39m(und)\u001b[0m\u001b[0;39m: Video: h264 (High), yuv420p, 320x180, 1081 kb/s\u001b[0m\u001b[0;39m, 30 fps\u001b[0m\u001b[0;39m, 30 tbr\u001b[0m\u001b[0;39m, 30 tbn\u001b[0m\u001b[0;39m, 60 tbc\u001b[0m\u001b[0;39m\r\n",
      "\u001b[0m\u001b[0;39m    Stream #0.1\u001b[0m\u001b[0;39m(und)\u001b[0m\u001b[0;39m: Audio: aac, 44100 Hz, stereo, s16, 127 kb/s\u001b[0m\u001b[0;39m\r\n",
      "\u001b[0mAt least one output file must be specified\r\n"
     ]
    }
   ],
   "source": [
    "!avconv -i /afs/cs.stanford.edu/group/cvgl/rawdata/THUMOS2014/Validation/videos/video_validation_0001001.mp4 \\\n",
    "#! 2>&1 | grep 'Video' | awk '{print $7}' | sed s/,//"
   ]
  },
  {
   "cell_type": "code",
   "execution_count": 13,
   "metadata": {
    "collapsed": false
   },
   "outputs": [
    {
     "data": {
      "text/plain": [
       "'320x180'"
      ]
     },
     "execution_count": 13,
     "metadata": {},
     "output_type": "execute_result"
    }
   ],
   "source": [
    "avconv.getSize(exampleVid)"
   ]
  },
  {
   "cell_type": "code",
   "execution_count": 32,
   "metadata": {
    "collapsed": false
   },
   "outputs": [],
   "source": [
    "def durationList(directory):\n",
    "    times = []\n",
    "    for vid in os.listdir(directory):\n",
    "        times.append(avconv.getDuration(os.path.join(directory,vid)))\n",
    "    return times\n",
    "\n",
    "def sizeList(directory,number=-1):\n",
    "    sizes = []\n",
    "    vids = os.listdir(directory) if number==-1 else os.listdir(directory)[:number]\n",
    "    for vid in vids:\n",
    "        sizes.append(avconv.getSize(os.path.join(directory,vid)))\n",
    "    return sizes\n",
    "\n",
    "#currentDir = VALID_DIR\n",
    "#times = durationList(currentDir)\n"
   ]
  },
  {
   "cell_type": "code",
   "execution_count": 4,
   "metadata": {
    "collapsed": false
   },
   "outputs": [
    {
     "data": {
      "text/plain": [
       "(array([ 2, 24, 26, 33, 22, 31, 48, 30, 37, 36, 35, 34, 43, 47, 36, 41, 33,\n",
       "        39, 33, 39, 28, 25, 27, 30,  7, 14, 13,  7, 10, 10,  8,  3,  4,  4,\n",
       "         5,  5,  5, 11,  4,  2,  2,  3,  8,  3,  6,  2,  2,  2,  3,  2,  1,\n",
       "         2,  5,  5,  6,  0,  0,  2,  0,  4,  1,  2,  3,  3,  0,  0,  0,  0,\n",
       "         1,  3,  0,  1,  0,  0,  1,  1,  0,  1,  2,  0,  0,  3,  1,  0,  0,\n",
       "         1,  1,  2,  3,  2,  2,  1,  0,  0,  1,  0,  0,  1,  1,  1,  0,  1,\n",
       "         0,  0,  0,  0,  0,  0,  0,  0,  0,  0,  0,  0,  1,  1,  1,  0,  0,\n",
       "         0]),\n",
       " array([    0.,    10.,    20.,    30.,    40.,    50.,    60.,    70.,\n",
       "           80.,    90.,   100.,   110.,   120.,   130.,   140.,   150.,\n",
       "          160.,   170.,   180.,   190.,   200.,   210.,   220.,   230.,\n",
       "          240.,   250.,   260.,   270.,   280.,   290.,   300.,   310.,\n",
       "          320.,   330.,   340.,   350.,   360.,   370.,   380.,   390.,\n",
       "          400.,   410.,   420.,   430.,   440.,   450.,   460.,   470.,\n",
       "          480.,   490.,   500.,   510.,   520.,   530.,   540.,   550.,\n",
       "          560.,   570.,   580.,   590.,   600.,   610.,   620.,   630.,\n",
       "          640.,   650.,   660.,   670.,   680.,   690.,   700.,   710.,\n",
       "          720.,   730.,   740.,   750.,   760.,   770.,   780.,   790.,\n",
       "          800.,   810.,   820.,   830.,   840.,   850.,   860.,   870.,\n",
       "          880.,   890.,   900.,   910.,   920.,   930.,   940.,   950.,\n",
       "          960.,   970.,   980.,   990.,  1000.,  1010.,  1020.,  1030.,\n",
       "         1040.,  1050.,  1060.,  1070.,  1080.,  1090.,  1100.,  1110.,\n",
       "         1120.,  1130.,  1140.,  1150.,  1160.,  1170.,  1180.,  1190.,\n",
       "         1200.]),\n",
       " <a list of 120 Patch objects>)"
      ]
     },
     "execution_count": 4,
     "metadata": {},
     "output_type": "execute_result"
    },
    {
     "data": {
      "image/png": "[encoded data removed]",
      "text/plain": [
       "<matplotlib.figure.Figure at 0x1b8b510>"
      ]
     },
     "metadata": {},
     "output_type": "display_data"
    }
   ],
   "source": [
    "plt.hist(times,bins=60*2,range=(0,60*20))"
   ]
  },
  {
   "cell_type": "code",
   "execution_count": 8,
   "metadata": {
    "collapsed": false
   },
   "outputs": [
    {
     "data": {
      "text/plain": [
       "(array([ 328, 3926, 3912, 2250, 1925,  443,  313,  137,   46,   13,    3,\n",
       "           7,    6,   10,    0,    0,    0,    0,    0,    0,    0,    0,\n",
       "           0,    0,    0,    0,    0,    0,    1,    0,    0,    0,    0,\n",
       "           0,    0,    0,    0,    0,    0,    0,    0,    0,    0,    0,\n",
       "           0,    0,    0,    0,    0,    0,    0,    0,    0,    0,    0,\n",
       "           0,    0,    0,    0,    0,    0,    0,    0,    0,    0,    0,\n",
       "           0,    0,    0,    0,    0,    0,    0,    0,    0,    0,    0,\n",
       "           0,    0,    0,    0,    0,    0,    0,    0,    0,    0,    0,\n",
       "           0,    0,    0,    0,    0,    0,    0,    0,    0,    0,    0,\n",
       "           0,    0,    0,    0,    0,    0,    0,    0,    0,    0,    0,\n",
       "           0,    0,    0,    0,    0,    0,    0,    0,    0,    0]),\n",
       " array([   0. ,    2.5,    5. ,    7.5,   10. ,   12.5,   15. ,   17.5,\n",
       "          20. ,   22.5,   25. ,   27.5,   30. ,   32.5,   35. ,   37.5,\n",
       "          40. ,   42.5,   45. ,   47.5,   50. ,   52.5,   55. ,   57.5,\n",
       "          60. ,   62.5,   65. ,   67.5,   70. ,   72.5,   75. ,   77.5,\n",
       "          80. ,   82.5,   85. ,   87.5,   90. ,   92.5,   95. ,   97.5,\n",
       "         100. ,  102.5,  105. ,  107.5,  110. ,  112.5,  115. ,  117.5,\n",
       "         120. ,  122.5,  125. ,  127.5,  130. ,  132.5,  135. ,  137.5,\n",
       "         140. ,  142.5,  145. ,  147.5,  150. ,  152.5,  155. ,  157.5,\n",
       "         160. ,  162.5,  165. ,  167.5,  170. ,  172.5,  175. ,  177.5,\n",
       "         180. ,  182.5,  185. ,  187.5,  190. ,  192.5,  195. ,  197.5,\n",
       "         200. ,  202.5,  205. ,  207.5,  210. ,  212.5,  215. ,  217.5,\n",
       "         220. ,  222.5,  225. ,  227.5,  230. ,  232.5,  235. ,  237.5,\n",
       "         240. ,  242.5,  245. ,  247.5,  250. ,  252.5,  255. ,  257.5,\n",
       "         260. ,  262.5,  265. ,  267.5,  270. ,  272.5,  275. ,  277.5,\n",
       "         280. ,  282.5,  285. ,  287.5,  290. ,  292.5,  295. ,  297.5,\n",
       "         300. ]),\n",
       " <a list of 120 Patch objects>)"
      ]
     },
     "execution_count": 8,
     "metadata": {},
     "output_type": "execute_result"
    },
    {
     "data": {
      "image/png": "[encoded data removed]",
      "text/plain": [
       "<matplotlib.figure.Figure at 0x2b54a90>"
      ]
     },
     "metadata": {},
     "output_type": "display_data"
    }
   ],
   "source": [
    "currentDir = UCF_DIR\n",
    "UCF_times = durationList(UCF_DIR)\n",
    "plt.hist(UCF_times,bins=60*2,range=(0,60*5))"
   ]
  },
  {
   "cell_type": "code",
   "execution_count": 18,
   "metadata": {
    "collapsed": false
   },
   "outputs": [
    {
     "name": "stdout",
     "output_type": "stream",
     "text": [
      "[None, 6.5600000000000005, 4.92, 10.37, 9.4, 11.84, 4.88, 6.8, 5.85, 8.64]\n",
      "[261.58, 250.69, 383.76, 263.44, 151.01, 238.23, 373.49, 57.59, 134.13, 183.87]\n"
     ]
    }
   ],
   "source": [
    "print UCF_times[:10]\n",
    "print times[:10]"
   ]
  },
  {
   "cell_type": "code",
   "execution_count": 35,
   "metadata": {
    "collapsed": false
   },
   "outputs": [],
   "source": [
    "sizes = sizeList(VALID_DIR,number=100)"
   ]
  },
  {
   "cell_type": "code",
   "execution_count": 37,
   "metadata": {
    "collapsed": false
   },
   "outputs": [
    {
     "name": "stdout",
     "output_type": "stream",
     "text": [
      "video_validation_0000001.mp4\n",
      "video_validation_0000002.mp4\n",
      "video_validation_0000003.mp4\n",
      "video_validation_0000004.mp4\n",
      "video_validation_0000005.mp4\n",
      "video_validation_0000006.mp4\n",
      "video_validation_0000007.mp4\n",
      "video_validation_0000008.mp4\n",
      "video_validation_0000009.mp4\n",
      "video_validation_0000010.mp4\n"
     ]
    }
   ],
   "source": [
    "for vid in os.listdir(VALID_DIR)[:10]:\n",
    "    print vid"
   ]
  },
  {
   "cell_type": "code",
   "execution_count": 39,
   "metadata": {
    "collapsed": false
   },
   "outputs": [
    {
     "data": {
      "text/plain": [
       "'video_validation_0000010'"
      ]
     },
     "execution_count": 39,
     "metadata": {},
     "output_type": "execute_result"
    }
   ],
   "source": [
    "\"video_validation_0000010\".split(\".\")[0]"
   ]
  },
  {
   "cell_type": "code",
   "execution_count": null,
   "metadata": {
    "collapsed": true
   },
   "outputs": [],
   "source": []
  }
 ],
 "metadata": {
  "kernelspec": {
   "display_name": "Python 2",
   "language": "python",
   "name": "python2"
  },
  "language_info": {
   "codemirror_mode": {
    "name": "ipython",
    "version": 2
   },
   "file_extension": ".py",
   "mimetype": "text/x-python",
   "name": "python",
   "nbconvert_exporter": "python",
   "pygments_lexer": "ipython2",
   "version": "2.7.3"
  }
 },
 "nbformat": 4,
 "nbformat_minor": 0
}
